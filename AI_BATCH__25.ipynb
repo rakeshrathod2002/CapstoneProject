{
  "cells": [
    {
      "cell_type": "markdown",
      "metadata": {
        "id": "cho0eZVAG0O3"
      },
      "source": [
        "# **Import Libraries**"
      ]
    },
    {
      "cell_type": "code",
      "execution_count": 1,
      "metadata": {
        "id": "aLMkRnoCFW6n"
      },
      "outputs": [],
      "source": [
        "import numpy as np\n",
        "import pandas as pd"
      ]
    },
    {
      "cell_type": "markdown",
      "metadata": {
        "id": "ATJEkhpPG8ug"
      },
      "source": [
        "# **Load Data**"
      ]
    },
    {
      "cell_type": "code",
      "execution_count": 2,
      "metadata": {
        "colab": {
          "base_uri": "https://localhost:8080/",
          "height": 206
        },
        "id": "CqAC5uEYFZ7o",
        "outputId": "329c4de5-9c55-4d9d-ca58-ebb69a8c6adb"
      },
      "outputs": [
        {
          "data": {
            "text/html": [
              "<div><div id=4e259bfa-6122-4f96-99b5-3bf87e669bc1 style=\"display:none; background-color:#9D6CFF; color:white; width:200px; height:30px; padding-left:5px; border-radius:4px; flex-direction:row; justify-content:space-around; align-items:center;\" onmouseover=\"this.style.backgroundColor='#BA9BF8'\" onmouseout=\"this.style.backgroundColor='#9D6CFF'\" onclick=\"window.commands?.execute('create-mitosheet-from-dataframe-output');\">See Full Dataframe in Mito</div> <script> if (window.commands.hasCommand('create-mitosheet-from-dataframe-output')) document.getElementById('4e259bfa-6122-4f96-99b5-3bf87e669bc1').style.display = 'flex' </script> <table border=\"1\" class=\"dataframe\">\n",
              "  <thead>\n",
              "    <tr style=\"text-align: right;\">\n",
              "      <th></th>\n",
              "      <th>Active cases</th>\n",
              "      <th>death</th>\n",
              "      <th>death rate</th>\n",
              "      <th>recovery rate</th>\n",
              "    </tr>\n",
              "  </thead>\n",
              "  <tbody>\n",
              "    <tr>\n",
              "      <th>0</th>\n",
              "      <td>245</td>\n",
              "      <td>1</td>\n",
              "      <td>0.408163</td>\n",
              "      <td>99.591837</td>\n",
              "    </tr>\n",
              "    <tr>\n",
              "      <th>1</th>\n",
              "      <td>405</td>\n",
              "      <td>3</td>\n",
              "      <td>0.740741</td>\n",
              "      <td>99.259259</td>\n",
              "    </tr>\n",
              "    <tr>\n",
              "      <th>2</th>\n",
              "      <td>417</td>\n",
              "      <td>2</td>\n",
              "      <td>0.479616</td>\n",
              "      <td>99.520384</td>\n",
              "    </tr>\n",
              "    <tr>\n",
              "      <th>3</th>\n",
              "      <td>424</td>\n",
              "      <td>2</td>\n",
              "      <td>0.471698</td>\n",
              "      <td>99.528302</td>\n",
              "    </tr>\n",
              "    <tr>\n",
              "      <th>4</th>\n",
              "      <td>409</td>\n",
              "      <td>3</td>\n",
              "      <td>0.733496</td>\n",
              "      <td>99.266504</td>\n",
              "    </tr>\n",
              "  </tbody>\n",
              "</table></div>"
            ],
            "text/plain": [
              "   Active cases  death  death rate  recovery rate\n",
              "0           245      1    0.408163      99.591837\n",
              "1           405      3    0.740741      99.259259\n",
              "2           417      2    0.479616      99.520384\n",
              "3           424      2    0.471698      99.528302\n",
              "4           409      3    0.733496      99.266504"
            ]
          },
          "execution_count": 2,
          "metadata": {},
          "output_type": "execute_result"
        }
      ],
      "source": [
        "covid = pd.read_csv(\"COVID_AI_BATCH_25.csv\")\n",
        "covid.head()"
      ]
    },
    {
      "cell_type": "code",
      "execution_count": 3,
      "metadata": {
        "colab": {
          "base_uri": "https://localhost:8080/"
        },
        "id": "o9-TG0FLFyGr",
        "outputId": "23e72094-3e93-4d1b-e481-436450a24d8d"
      },
      "outputs": [
        {
          "data": {
            "text/plain": [
              "Active cases     0\n",
              "death            0\n",
              "death rate       0\n",
              "recovery rate    0\n",
              "dtype: int64"
            ]
          },
          "execution_count": 3,
          "metadata": {},
          "output_type": "execute_result"
        }
      ],
      "source": [
        "# Checking for null values\n",
        "covid.isnull().sum()"
      ]
    },
    {
      "cell_type": "code",
      "execution_count": 4,
      "metadata": {
        "colab": {
          "base_uri": "https://localhost:8080/"
        },
        "id": "1zD1KI2kF5U6",
        "outputId": "4263ce95-59a8-4605-d61c-b7b92cfc8da0"
      },
      "outputs": [
        {
          "data": {
            "text/html": [
              "<div><div id=776a6c65-5b8c-48ba-863e-1478e4c76f43 style=\"display:none; background-color:#9D6CFF; color:white; width:200px; height:30px; padding-left:5px; border-radius:4px; flex-direction:row; justify-content:space-around; align-items:center;\" onmouseover=\"this.style.backgroundColor='#BA9BF8'\" onmouseout=\"this.style.backgroundColor='#9D6CFF'\" onclick=\"window.commands?.execute('create-mitosheet-from-dataframe-output');\">See Full Dataframe in Mito</div> <script> if (window.commands.hasCommand('create-mitosheet-from-dataframe-output')) document.getElementById('776a6c65-5b8c-48ba-863e-1478e4c76f43').style.display = 'flex' </script> <table border=\"1\" class=\"dataframe\">\n",
              "  <thead>\n",
              "    <tr style=\"text-align: right;\">\n",
              "      <th></th>\n",
              "      <th>Active cases</th>\n",
              "      <th>death</th>\n",
              "      <th>death rate</th>\n",
              "      <th>recovery rate</th>\n",
              "    </tr>\n",
              "  </thead>\n",
              "  <tbody>\n",
              "    <tr>\n",
              "      <th>count</th>\n",
              "      <td>102.000000</td>\n",
              "      <td>102.000000</td>\n",
              "      <td>102.000000</td>\n",
              "      <td>102.000000</td>\n",
              "    </tr>\n",
              "    <tr>\n",
              "      <th>mean</th>\n",
              "      <td>227.901961</td>\n",
              "      <td>1.431373</td>\n",
              "      <td>0.671519</td>\n",
              "      <td>99.328481</td>\n",
              "    </tr>\n",
              "    <tr>\n",
              "      <th>std</th>\n",
              "      <td>87.357410</td>\n",
              "      <td>0.621557</td>\n",
              "      <td>0.282402</td>\n",
              "      <td>0.282402</td>\n",
              "    </tr>\n",
              "    <tr>\n",
              "      <th>min</th>\n",
              "      <td>103.000000</td>\n",
              "      <td>0.000000</td>\n",
              "      <td>0.000000</td>\n",
              "      <td>98.360656</td>\n",
              "    </tr>\n",
              "    <tr>\n",
              "      <th>25%</th>\n",
              "      <td>164.000000</td>\n",
              "      <td>1.000000</td>\n",
              "      <td>0.497512</td>\n",
              "      <td>99.165773</td>\n",
              "    </tr>\n",
              "    <tr>\n",
              "      <th>50%</th>\n",
              "      <td>201.500000</td>\n",
              "      <td>1.000000</td>\n",
              "      <td>0.609756</td>\n",
              "      <td>99.390244</td>\n",
              "    </tr>\n",
              "    <tr>\n",
              "      <th>75%</th>\n",
              "      <td>300.250000</td>\n",
              "      <td>2.000000</td>\n",
              "      <td>0.834227</td>\n",
              "      <td>99.502488</td>\n",
              "    </tr>\n",
              "    <tr>\n",
              "      <th>max</th>\n",
              "      <td>500.000000</td>\n",
              "      <td>3.000000</td>\n",
              "      <td>1.639344</td>\n",
              "      <td>100.000000</td>\n",
              "    </tr>\n",
              "  </tbody>\n",
              "</table></div>"
            ],
            "text/plain": [
              "       Active cases       death  death rate  recovery rate\n",
              "count    102.000000  102.000000  102.000000     102.000000\n",
              "mean     227.901961    1.431373    0.671519      99.328481\n",
              "std       87.357410    0.621557    0.282402       0.282402\n",
              "min      103.000000    0.000000    0.000000      98.360656\n",
              "25%      164.000000    1.000000    0.497512      99.165773\n",
              "50%      201.500000    1.000000    0.609756      99.390244\n",
              "75%      300.250000    2.000000    0.834227      99.502488\n",
              "max      500.000000    3.000000    1.639344     100.000000"
            ]
          },
          "execution_count": 4,
          "metadata": {},
          "output_type": "execute_result"
        }
      ],
      "source": [
        "covid.describe()"
      ]
    },
    {
      "cell_type": "markdown",
      "metadata": {
        "id": "Blp2RR5IHHfE"
      },
      "source": [
        "# **Data Split**"
      ]
    },
    {
      "cell_type": "code",
      "execution_count": 5,
      "metadata": {
        "id": "7yQLw_f9HBJT"
      },
      "outputs": [],
      "source": [
        "from sklearn.model_selection import train_test_split\n",
        "df_train, df_test = train_test_split(covid, train_size = 0.7, test_size = 0.3, random_state = 100)"
      ]
    },
    {
      "cell_type": "markdown",
      "metadata": {
        "id": "5l4axGe_HQ0b"
      },
      "source": [
        "# **Input - Output Data Split**"
      ]
    },
    {
      "cell_type": "code",
      "execution_count": 6,
      "metadata": {
        "id": "ZkAKcADOLevG"
      },
      "outputs": [],
      "source": [
        "# Dividing the training data set into X and Y\n",
        "y_train = df_train.pop('recovery rate')\n",
        "X_train = df_train\n",
        "y_test = df_test.pop('recovery rate')\n",
        "X_test = df_test\n"
      ]
    },
    {
      "cell_type": "markdown",
      "metadata": {
        "id": "9MLadXztHZki"
      },
      "source": [
        "# **Model Training**"
      ]
    },
    {
      "cell_type": "code",
      "execution_count": 7,
      "metadata": {
        "colab": {
          "base_uri": "https://localhost:8080/"
        },
        "id": "GHmrIo2pMQlT",
        "outputId": "1bf28b4a-cdab-462d-8edf-5c25f038f4ee"
      },
      "outputs": [
        {
          "data": {
            "text/plain": [
              "LinearRegression()"
            ]
          },
          "execution_count": 7,
          "metadata": {},
          "output_type": "execute_result"
        }
      ],
      "source": [
        "from sklearn.linear_model import LinearRegression\n",
        "regressor = LinearRegression()\n",
        "regressor.fit(X_train, y_train)"
      ]
    },
    {
      "cell_type": "code",
      "execution_count": 8,
      "metadata": {
        "colab": {
          "base_uri": "https://localhost:8080/"
        },
        "id": "O56DleBxMUPK",
        "outputId": "6f1c1608-e6aa-476d-c4df-4792f95d99bb"
      },
      "outputs": [
        {
          "name": "stdout",
          "output_type": "stream",
          "text": [
            "Predicted rate , m: (array([-6.86207089e-13,  6.94362345e-11, -9.99999998e-01]),)\n",
            "99.99999999794973\n"
          ]
        }
      ],
      "source": [
        "m = regressor.coef_,\n",
        "print(\"Predicted rate , m:\" , m)\n",
        "\n",
        "print(regressor.intercept_)\n"
      ]
    },
    {
      "cell_type": "markdown",
      "metadata": {
        "id": "OnBhMItWHfJf"
      },
      "source": [
        "# **Prediction on Training and Testing Data**"
      ]
    },
    {
      "cell_type": "code",
      "execution_count": 9,
      "metadata": {
        "id": "L2yxkSi4M0Q6"
      },
      "outputs": [],
      "source": [
        "y_pred_test =  regressor.predict(X_test)\n",
        "y_pred_train =  regressor.predict(X_train)"
      ]
    },
    {
      "cell_type": "markdown",
      "metadata": {
        "id": "d1itTkfTHp34"
      },
      "source": [
        "# **Error Metrics Computation**"
      ]
    },
    {
      "cell_type": "code",
      "execution_count": 10,
      "metadata": {
        "colab": {
          "base_uri": "https://localhost:8080/"
        },
        "id": "IDDkA3EmM4my",
        "outputId": "79c565b4-834f-4ea2-d1d1-3c48f45fcb53"
      },
      "outputs": [
        {
          "name": "stdout",
          "output_type": "stream",
          "text": [
            "Root mean square error 2.9189362710379135e-09\n",
            "Mean square error 8.520188954380719e-18\n",
            "Mean absolute error 2.4147426593501708e-09\n",
            "Accuracy:  0.9999999999999999\n",
            "\n",
            "Testing Accuracies\n",
            "\n",
            "Root mean square error 3.480317458850199e-09\n",
            "Mean square error 1.2112609614377509e-17\n",
            "Mean absolute error 2.8962024463262716e-09\n",
            "Accuracy:  0.9999999999999999\n"
          ]
        }
      ],
      "source": [
        "import math\n",
        "from sklearn.metrics import mean_squared_error \n",
        "from sklearn.metrics import mean_absolute_error\n",
        "from sklearn.metrics import r2_score\n",
        "\n",
        "\n",
        "#Training Accuracies\n",
        "rmse_linear = math.sqrt(mean_squared_error(y_train, y_pred_train)) \n",
        "print('Root mean square error', rmse_linear) \n",
        "mse_linear = (mean_squared_error(y_train, y_pred_train)) \n",
        "print('Mean square error', mse_linear) \n",
        "mae_linear=mean_absolute_error(y_train, y_pred_train)\n",
        "print('Mean absolute error', mae_linear)\n",
        "accuracy_linear_train = r2_score(y_train, y_pred_train)\n",
        "print(\"Accuracy: \", accuracy_linear_train) \n",
        "\n",
        "\n",
        "# testing accuracies\n",
        "print(\"\\nTesting Accuracies\\n\")\n",
        "rmse_linear_test = math.sqrt(mean_squared_error(y_test, y_pred_test)) \n",
        "print('Root mean square error', rmse_linear_test) \n",
        "mse_linear_test = (mean_squared_error(y_test, y_pred_test)) \n",
        "print('Mean square error', mse_linear_test) \n",
        "mae_linear_test = mean_absolute_error(y_test, y_pred_test)\n",
        "print('Mean absolute error', mae_linear_test)\n",
        "accuracy_linear_test = r2_score(y_test, y_pred_test)\n",
        "print(\"Accuracy: \", accuracy_linear_test) "
      ]
    },
    {
      "cell_type": "markdown",
      "metadata": {},
      "source": [
        "# Decision Tree"
      ]
    },
    {
      "cell_type": "code",
      "execution_count": 11,
      "metadata": {},
      "outputs": [
        {
          "data": {
            "text/plain": [
              "DecisionTreeRegressor(random_state=0)"
            ]
          },
          "execution_count": 11,
          "metadata": {},
          "output_type": "execute_result"
        }
      ],
      "source": [
        "from sklearn.tree import DecisionTreeRegressor\n",
        "dec_tree_reg = DecisionTreeRegressor(random_state=0)\n",
        "dec_tree_reg.fit(X_train, y_train)"
      ]
    },
    {
      "cell_type": "code",
      "execution_count": 12,
      "metadata": {},
      "outputs": [],
      "source": [
        "y_pred_test_DTR =  dec_tree_reg.predict(X_test)\n",
        "y_pred_train_DTR =  dec_tree_reg.predict(X_train)"
      ]
    },
    {
      "cell_type": "code",
      "execution_count": 13,
      "metadata": {},
      "outputs": [
        {
          "name": "stdout",
          "output_type": "stream",
          "text": [
            "Root mean square error 0.0\n",
            "Mean square error 0.0\n",
            "Mean absolute error 0.0\n",
            "Accuracy:  1.0\n",
            "\n",
            "Testing Accuracies\n",
            "\n",
            "Root mean square error 0.03707513580131699\n",
            "Mean square error 0.0013745656946860967\n",
            "Mean absolute error 0.01693692677419187\n",
            "Accuracy:  0.9862799172216028\n"
          ]
        }
      ],
      "source": [
        "#Training Accuracies\n",
        "rmse_linear_DTR = math.sqrt(mean_squared_error(y_train, y_pred_train_DTR)) \n",
        "print('Root mean square error', rmse_linear_DTR) \n",
        "mse_linear_DTR = (mean_squared_error(y_train, y_pred_train_DTR)) \n",
        "print('Mean square error', mse_linear_DTR) \n",
        "mae_linear_DTR = mean_absolute_error(y_train, y_pred_train_DTR)\n",
        "print('Mean absolute error', mae_linear_DTR)\n",
        "accuracy_DTR_train = r2_score(y_train, y_pred_train_DTR)\n",
        "print(\"Accuracy: \", accuracy_DTR_train) \n",
        "\n",
        "\n",
        "# testing accuracies\n",
        "print(\"\\nTesting Accuracies\\n\")\n",
        "rmse_linear_test_DTR = math.sqrt(mean_squared_error(y_test, y_pred_test_DTR)) \n",
        "print('Root mean square error', rmse_linear_test_DTR) \n",
        "mse_linear_test_DTR = (mean_squared_error(y_test, y_pred_test_DTR)) \n",
        "print('Mean square error', mse_linear_test_DTR) \n",
        "mae_linear_test_DTR = mean_absolute_error(y_test, y_pred_test_DTR)\n",
        "print('Mean absolute error', mae_linear_test_DTR)\n",
        "accuracy_DTR_test = r2_score(y_test, y_pred_test_DTR)\n",
        "print(\"Accuracy: \", accuracy_DTR_test) "
      ]
    },
    {
      "cell_type": "markdown",
      "metadata": {},
      "source": [
        "# Random Forest"
      ]
    },
    {
      "cell_type": "code",
      "execution_count": 14,
      "metadata": {},
      "outputs": [],
      "source": [
        "from sklearn.ensemble import RandomForestRegressor\n",
        "random_forest_reg = RandomForestRegressor(random_state=0)\n",
        "random_forest_reg.fit(X_train, y_train)\n",
        "\n",
        "y_pred_test_RFG =  random_forest_reg.predict(X_test)\n",
        "y_pred_train_RFG =  random_forest_reg.predict(X_train)"
      ]
    },
    {
      "cell_type": "code",
      "execution_count": 15,
      "metadata": {},
      "outputs": [
        {
          "name": "stdout",
          "output_type": "stream",
          "text": [
            "Root mean square error 0.019241582005601405\n",
            "Mean square error 0.0003702384780782837\n",
            "Mean absolute error 0.006500693491542715\n",
            "Accuracy:  0.994413426177297\n",
            "\n",
            "Testing Accuracies\n",
            "\n",
            "Root mean square error 0.04233719115126892\n",
            "Mean square error 0.001792437754579083\n",
            "Mean absolute error 0.017687824454861077\n",
            "Accuracy:  0.9821089712459574\n"
          ]
        }
      ],
      "source": [
        "rmse_linear_RFG = math.sqrt(mean_squared_error(y_train, y_pred_train_RFG)) \n",
        "print('Root mean square error', rmse_linear_RFG) \n",
        "mse_linear_RFG = (mean_squared_error(y_train, y_pred_train_RFG)) \n",
        "print('Mean square error', mse_linear_RFG) \n",
        "mae_linear_RFG = mean_absolute_error(y_train, y_pred_train_RFG)\n",
        "print('Mean absolute error', mae_linear_RFG)\n",
        "accuracy_RFG_train = r2_score(y_train, y_pred_train_RFG)\n",
        "print(\"Accuracy: \", accuracy_RFG_train) \n",
        "\n",
        "\n",
        "# testing accuracies\n",
        "print(\"\\nTesting Accuracies\\n\")\n",
        "rmse_linear_test_RFG = math.sqrt(mean_squared_error(y_test, y_pred_test_RFG)) \n",
        "print('Root mean square error', rmse_linear_test_RFG) \n",
        "mse_linear_test_RFG = (mean_squared_error(y_test, y_pred_test_RFG)) \n",
        "print('Mean square error', mse_linear_test_RFG) \n",
        "mae_linear_test_RFG = mean_absolute_error(y_test, y_pred_test_RFG)\n",
        "print('Mean absolute error', mae_linear_test_RFG)\n",
        "accuracy_RFG_test = r2_score(y_test, y_pred_test_RFG)\n",
        "print(\"Accuracy: \", accuracy_RFG_test) "
      ]
    },
    {
      "cell_type": "markdown",
      "metadata": {},
      "source": [
        "# plots"
      ]
    },
    {
      "cell_type": "code",
      "execution_count": 16,
      "metadata": {},
      "outputs": [
        {
          "data": {
            "text/plain": [
              "<seaborn.axisgrid.PairGrid at 0x162580ec790>"
            ]
          },
          "execution_count": 16,
          "metadata": {},
          "output_type": "execute_result"
        },
        {
          "data": {
            "image/png": "[encoded data removed]",
            "text/plain": [
              "<Figure size 720x720 with 20 Axes>"
            ]
          },
          "metadata": {
            "needs_background": "light"
          },
          "output_type": "display_data"
        }
      ],
      "source": [
        "import seaborn as sns\n",
        "sns.pairplot(covid)"
      ]
    },
    {
      "cell_type": "code",
      "execution_count": 17,
      "metadata": {},
      "outputs": [
        {
          "data": {
            "image/png": "[encoded data removed]",
            "text/plain": [
              "<Figure size 432x288 with 2 Axes>"
            ]
          },
          "metadata": {
            "needs_background": "light"
          },
          "output_type": "display_data"
        }
      ],
      "source": [
        "import matplotlib.pyplot as plt\n",
        "corr_mat = covid.corr()\n",
        "sns.heatmap(corr_mat, annot =True )\n",
        "sns.set(rc = {'figure.figsize':(8,8)})\n",
        "plt.show()"
      ]
    },
    {
      "cell_type": "code",
      "execution_count": 18,
      "metadata": {},
      "outputs": [
        {
          "data": {
            "text/plain": [
              "Text(0.5, 1.0, 'RMS Error for Different Models (Training)')"
            ]
          },
          "execution_count": 18,
          "metadata": {},
          "output_type": "execute_result"
        },
        {
          "data": {
            "image/png": "[encoded data removed]",
            "text/plain": [
              "<Figure size 576x576 with 1 Axes>"
            ]
          },
          "metadata": {},
          "output_type": "display_data"
        }
      ],
      "source": [
        "data = {\n",
        "        'Linear Regression': rmse_linear,\n",
        "        'Decision Tree': rmse_linear_DTR,\n",
        "        'Random Forest': rmse_linear_RFG\n",
        "        }\n",
        "\n",
        "model = list(data.keys())\n",
        "RMSEerrors = list(data.values())\n",
        "\n",
        "\n",
        "plt.figure(figsize=(8, 8))\n",
        "splot=sns.barplot(x= model,\n",
        "                  y= RMSEerrors)\n",
        "\n",
        "for p in splot.patches:\n",
        "    splot.annotate(format(p.get_height(),), \n",
        "                   (p.get_x() + p.get_width() / 2., p.get_height()), \n",
        "                   ha = 'center', va = 'center', \n",
        "                   xytext = (0, 9), \n",
        "                   textcoords = 'offset points')\n",
        "plt.xlabel(\"Model\", size=14)\n",
        "plt.ylabel(\"RMS Error\", size=14)\n",
        "plt.title(\"RMS Error for Different Models (Training)\")"
      ]
    },
    {
      "cell_type": "code",
      "execution_count": 19,
      "metadata": {},
      "outputs": [
        {
          "data": {
            "text/plain": [
              "Text(0.5, 1.0, 'RMS Error for Different Models (Testing)')"
            ]
          },
          "execution_count": 19,
          "metadata": {},
          "output_type": "execute_result"
        },
        {
          "data": {
            "image/png": "[encoded data removed]",
            "text/plain": [
              "<Figure size 576x576 with 1 Axes>"
            ]
          },
          "metadata": {},
          "output_type": "display_data"
        }
      ],
      "source": [
        "data = {\n",
        "        'Linear Regression': rmse_linear_test,\n",
        "        'Decision Tree': rmse_linear_test_DTR,\n",
        "        'Random Forest': rmse_linear_test_RFG\n",
        "        }\n",
        "\n",
        "model = list(data.keys())\n",
        "RMSEerrors = list(data.values())\n",
        "\n",
        "\n",
        "plt.figure(figsize=(8, 8))\n",
        "splot=sns.barplot(x= model,\n",
        "                  y= RMSEerrors)\n",
        "\n",
        "for p in splot.patches:\n",
        "    splot.annotate(format(p.get_height(),), \n",
        "                   (p.get_x() + p.get_width() / 2., p.get_height()), \n",
        "                   ha = 'center', va = 'center', \n",
        "                   xytext = (0, 9), \n",
        "                   textcoords = 'offset points')\n",
        "plt.xlabel(\"Model\", size=14)\n",
        "plt.ylabel(\"RMS Error\", size=14)\n",
        "plt.title(\"RMS Error for Different Models (Testing)\")"
      ]
    },
    {
      "cell_type": "markdown",
      "metadata": {
        "id": "HerRh5ZvH0LK"
      },
      "source": [
        "# **Save Model**"
      ]
    },
    {
      "cell_type": "code",
      "execution_count": 23,
      "metadata": {
        "id": "lu-neRcjNGZK"
      },
      "outputs": [],
      "source": [
        "import pickle\n",
        "# Save the model\n",
        "filename = 'model.pkl'\n",
        "pickle.dump(dec_tree_reg, open(filename, 'wb'))\n",
        "pickle.dump(regressor, open('linearmodel.pkl', 'wb'))\n"
      ]
    },
    {
      "cell_type": "markdown",
      "metadata": {
        "id": "rJtI8Nj6H8yO"
      },
      "source": [
        "# **Deployment**"
      ]
    },
    {
      "cell_type": "code",
      "execution_count": 21,
      "metadata": {
        "colab": {
          "base_uri": "https://localhost:8080/"
        },
        "id": "aP5gZLgOcH75",
        "outputId": "4d8c9272-0444-4639-a174-063c04f7304c"
      },
      "outputs": [
        {
          "name": "stdout",
          "output_type": "stream",
          "text": [
            "Predicted Recovery rate =  50.0000001219409\n"
          ]
        }
      ],
      "source": [
        "list_of_columns = covid.columns\n",
        "input_data=pd.DataFrame(columns=list_of_columns)\n",
        "input_data.drop(['recovery rate'], axis='columns', inplace=True)\n",
        "\n",
        "input_data.at[0, 'Active cases'] = int(input('enter Active cases'))\n",
        "input_data.at[0, 'death'] = int(input('enter death'))\n",
        "input_data.at[0, 'death rate'] = float(input('enter death rate'))\n",
        "\n",
        "y_pred =  regressor.predict(input_data)\n",
        "recoveryrate=float(y_pred)\n",
        "print('Predicted Recovery rate = ',recoveryrate)"
      ]
    },
    {
      "cell_type": "code",
      "execution_count": 22,
      "metadata": {
        "colab": {
          "base_uri": "https://localhost:8080/"
        },
        "id": "mAPJLkAE-hCV",
        "outputId": "cd62a7c3-7cb8-4b22-80b8-b9dd842362df"
      },
      "outputs": [
        {
          "name": "stdout",
          "output_type": "stream",
          "text": [
            "Recovery rate 98.54014599\n"
          ]
        }
      ],
      "source": [
        "model = pickle.load(open('model.pkl', 'rb'))\n",
        "prediction = model.predict(input_data)\n",
        "result = prediction[0]\n",
        "recoveryrate=result\n",
        "print('Recovery rate',recoveryrate)"
      ]
    },
    {
      "cell_type": "code",
      "execution_count": 24,
      "metadata": {},
      "outputs": [
        {
          "name": "stdout",
          "output_type": "stream",
          "text": [
            "Recovery rate 50.0000001219409\n"
          ]
        }
      ],
      "source": [
        "model = pickle.load(open('linearmodel.pkl', 'rb'))\n",
        "prediction = model.predict(input_data)\n",
        "result = prediction[0]\n",
        "recoveryrate=result\n",
        "print('Recovery rate',recoveryrate)"
      ]
    },
    {
      "cell_type": "markdown",
      "metadata": {
        "id": "eVlO96oFICDY"
      },
      "source": [
        "# **THANK YOU**"
      ]
    }
  ],
  "metadata": {
    "colab": {
      "collapsed_sections": [],
      "name": "AI_BATCH _25.ipynb",
      "provenance": []
    },
    "kernelspec": {
      "display_name": "Python 3",
      "name": "python3"
    },
    "language_info": {
      "codemirror_mode": {
        "name": "ipython",
        "version": 3
      },
      "file_extension": ".py",
      "mimetype": "text/x-python",
      "name": "python",
      "nbconvert_exporter": "python",
      "pygments_lexer": "ipython3",
      "version": "3.9.7"
    }
  },
  "nbformat": 4,
  "nbformat_minor": 0
}
